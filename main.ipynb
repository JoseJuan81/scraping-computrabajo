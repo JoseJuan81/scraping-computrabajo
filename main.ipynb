{
 "cells": [
  {
   "cell_type": "code",
   "execution_count": 14,
   "id": "89e3ebdf-3d1d-466f-873b-b3d02dd56341",
   "metadata": {
    "tags": []
   },
   "outputs": [],
   "source": [
    "from selenium import webdriver\n",
    "from selenium.webdriver.common.by import By\n",
    "import pandas as pd\n",
    "import requests\n",
    "import json\n",
    "from pathlib import Path"
   ]
  },
  {
   "cell_type": "code",
   "execution_count": 15,
   "id": "f7e7044e-df87-415d-904b-1bedf6397e8d",
   "metadata": {
    "tags": []
   },
   "outputs": [],
   "source": [
    "notion_secret = \"secret_5oM8WbfNkSB3SkfeZ38ncJNrpvVsttGrKbTqpDilTMW\"\n",
    "notion_database_id = \"d4a484c209c0476692e4fbcc2ffe7d9f\""
   ]
  },
  {
   "cell_type": "code",
   "execution_count": 16,
   "id": "81b56698-5741-4624-9c61-36785cf29e84",
   "metadata": {
    "tags": []
   },
   "outputs": [],
   "source": [
    "#Driver\n",
    "options = webdriver.ChromeOptions()\n",
    "driver = webdriver.Chrome(options = options)"
   ]
  },
  {
   "cell_type": "code",
   "execution_count": 17,
   "id": "48917f28-f3ed-4338-816e-16a5639e366d",
   "metadata": {
    "tags": []
   },
   "outputs": [],
   "source": [
    "#Login page\n",
    "login_url = \"https://pe.computrabajo.com/login/\"\n",
    "driver.get(login_url)"
   ]
  },
  {
   "cell_type": "code",
   "execution_count": 18,
   "id": "2705ffd8-dd70-4098-8197-da14a3761e9a",
   "metadata": {
    "tags": []
   },
   "outputs": [],
   "source": [
    "#Login\n",
    "input_email, *rest = driver.find_elements(By.CSS_SELECTOR, \"#Email\")\n",
    "input_pass, *rest = driver.find_elements(By.CSS_SELECTOR, \"#Password\")\n",
    "\n",
    "input_email.send_keys(\"info@japisale.com\")\n",
    "input_pass.send_keys(\"MilongoIV8\")\n",
    "\n",
    "btn, *rest = driver.find_elements(By.CSS_SELECTOR, \"#bbR\")\n",
    "btn.click()"
   ]
  },
  {
   "cell_type": "code",
   "execution_count": 19,
   "id": "a9428067-4ac7-4302-996a-5527d8defd26",
   "metadata": {
    "tags": []
   },
   "outputs": [],
   "source": [
    "#Ir a Anuncio de empleo\n",
    "driver.get(\"https://empresa.pe.computrabajo.com/Company/Offers/Match?oi=57776E486819C07761373E686DCF3405&cf=469814F59E4D6F04\")"
   ]
  },
  {
   "cell_type": "code",
   "execution_count": 366,
   "id": "ef45add5-8937-4793-ac62-6ce7e59da739",
   "metadata": {
    "tags": []
   },
   "outputs": [],
   "source": [
    "#Extraer los candidatos por página\n",
    "people_list = driver.find_elements(By.CSS_SELECTOR, \"article.rowuser.pos_rel.bClick.no_icons\")"
   ]
  },
  {
   "cell_type": "code",
   "execution_count": 367,
   "id": "46c36d05-8bda-428b-9397-542ad7b08d40",
   "metadata": {
    "tags": []
   },
   "outputs": [
    {
     "name": "stdout",
     "output_type": "stream",
     "text": [
      "<selenium.webdriver.remote.webelement.WebElement (session=\"b123acf384b097fa68c23dda51658e1f\", element=\"4F7268E8A7240A826CAE44099183C9C9_element_425\")>\n"
     ]
    }
   ],
   "source": [
    "# Botón Siguiente en paginación\n",
    "try:\n",
    "    next_button = driver.find_element(By.CSS_SELECTOR, \"div.paginas li.siguiente\")\n",
    "    print(next_button)\n",
    "except:\n",
    "    next_button = None"
   ]
  },
  {
   "cell_type": "code",
   "execution_count": 365,
   "id": "dbcaf9ad-d305-4a4f-a112-a9d6b36ac1da",
   "metadata": {
    "tags": []
   },
   "outputs": [],
   "source": [
    "if next_button:\n",
    "    next_button.click()"
   ]
  },
  {
   "cell_type": "code",
   "execution_count": 332,
   "id": "107d1c0a-8819-48d8-a636-bccd407abf05",
   "metadata": {
    "tags": []
   },
   "outputs": [],
   "source": [
    "# Receorrer cada candidato y estraer información básica\n",
    "#for people in pople_list:\n",
    "# first = people_list[0]"
   ]
  },
  {
   "cell_type": "code",
   "execution_count": 333,
   "id": "2090d030-772d-42de-afc1-b6d966d8ce3f",
   "metadata": {
    "tags": []
   },
   "outputs": [],
   "source": [
    "def data_base_data(data):\n",
    "    name, image, profile_page = data[\"name\"], data[\"image\"], data[\"profile_page\"]\n",
    "    grade, match, age, application_time = data[\"grade\"], data[\"match\"], data[\"age\"], data[\"application_time\"]\n",
    "    \n",
    "    notion_data = {\n",
    "        \"name\": {\n",
    "            \"title\": [{\n",
    "                \"text\": {\n",
    "                    \"content\": name\n",
    "                }\n",
    "            }]\n",
    "        },\n",
    "        \"image\": {\n",
    "            \"files\": [\n",
    "                {\n",
    "                    \"external\": {\n",
    "                        \"url\": image\n",
    "                    },\n",
    "                    \"type\": \"external\",\n",
    "                    \"name\": name\n",
    "                }\n",
    "            ]\n",
    "        },\n",
    "        \"profile_page\": { \"url\": profile_page },\n",
    "        \"application_time\": {\n",
    "            \"rich_text\": [{\n",
    "                \"text\": {\n",
    "                    \"content\": application_time\n",
    "                }\n",
    "            }]\n",
    "        },\n",
    "        \"age\": { \"number\": age },\n",
    "        \"grade\": {\n",
    "            \"rich_text\": [{\n",
    "                \"text\": {\n",
    "                    \"content\": grade\n",
    "                }\n",
    "            }]\n",
    "        },\n",
    "        \"match\": { \"number\": match }\n",
    "    }\n",
    "    \n",
    "    return notion_data"
   ]
  },
  {
   "cell_type": "code",
   "execution_count": 334,
   "id": "9f3fbc54-cf8e-42fb-b0d5-7105e02a0784",
   "metadata": {
    "tags": []
   },
   "outputs": [],
   "source": [
    "# Guardar en Notion los candidatos\n",
    "async def send_to_notion(people_data):\n",
    "    url = \"https://api.notion.com/v1/pages\"\n",
    "    headers = dict([\n",
    "        (\"Authorization\", f\"Bearer {notion_secret}\"),\n",
    "        (\"Content-Type\", \"application/json\"),\n",
    "        (\"Notion-Version\", \"2022-06-28\")\n",
    "    ])\n",
    "\n",
    "    data = dict([\n",
    "        (\"parent\", { \"database_id\": notion_database_id }),\n",
    "        (\"properties\", data_base_data(people_data))\n",
    "    ])\n",
    "    \n",
    "    try:\n",
    "        response, *rest = requests.post(url, headers=headers, data=json.dumps(data))\n",
    "        return response\n",
    "    except e:\n",
    "        print(\"send_to_notion_error\")\n",
    "        print(e)\n",
    "        return e"
   ]
  },
  {
   "cell_type": "code",
   "execution_count": 335,
   "id": "b2722ca9-9822-4448-a9a5-e7cd9752b984",
   "metadata": {
    "tags": []
   },
   "outputs": [],
   "source": [
    "#people data\n",
    "list_people = []\n",
    "for people in people_list:\n",
    "\n",
    "    try:\n",
    "        name = people.find_element(By.CSS_SELECTOR, \"ul li.nombre a\").text\n",
    "    except:\n",
    "        name = \"\"\n",
    "\n",
    "    try:\n",
    "        image = people.find_element(By.CSS_SELECTOR, \"ul li.nombre img.lazy\").get_attribute(\"src\")\n",
    "    except:\n",
    "        image = \"??\"\n",
    "\n",
    "    try:\n",
    "        profile_page = people.find_element(By.CSS_SELECTOR, \"ul li.nombre a\").get_attribute(\"href\")\n",
    "    except:\n",
    "        profile_page = \"\"\n",
    "\n",
    "    application_time  = people.find_element(By.CSS_SELECTOR, \"ul li.aplicado\").text\n",
    "    age = people.find_element(By.CSS_SELECTOR, \"ul li.edad\").text\n",
    "    grade = people.find_element(By.CSS_SELECTOR, \"ul li.estudios\").text\n",
    "    match = people.find_element(By.CSS_SELECTOR, \"ul li.adecuacion p\").text\n",
    "    people_data = dict([\n",
    "        (\"name\", name),\n",
    "        (\"image\", image),\n",
    "        (\"profile_page\", profile_page),\n",
    "        (\"application_time\", application_time),\n",
    "        (\"age\", int(age)),\n",
    "        (\"grade\", grade),\n",
    "        (\"match\", int(match.split(\" \")[0])),\n",
    "    ])\n",
    "    list_people.append(people_data)"
   ]
  },
  {
   "cell_type": "code",
   "execution_count": 336,
   "id": "11b8eb56-bd53-4249-a569-6026540e42cd",
   "metadata": {
    "tags": []
   },
   "outputs": [
    {
     "data": {
      "text/plain": [
       "16"
      ]
     },
     "execution_count": 336,
     "metadata": {},
     "output_type": "execute_result"
    }
   ],
   "source": [
    "len(list_people)"
   ]
  },
  {
   "cell_type": "code",
   "execution_count": 337,
   "id": "8522ebfa-5cdc-4a6c-b756-ab84c224951f",
   "metadata": {
    "tags": []
   },
   "outputs": [
    {
     "name": "stdout",
     "output_type": "stream",
     "text": [
      "b'{\"object\":\"page\",\"id\":\"6e842c8a-85a7-4f1c-8333-01bf80fc1532\",\"created_time\":\"2023-10-02T01:35:00.000Z\",\"last_edited_time\":\"2023-'\n",
      "b'{\"object\":\"page\",\"id\":\"a3d7c249-8647-43d0-b814-645030146b17\",\"created_time\":\"2023-10-02T01:35:00.000Z\",\"last_edited_time\":\"2023-'\n",
      "b'{\"object\":\"page\",\"id\":\"feb65cc2-cbcc-4bba-92e8-73044d1f992f\",\"created_time\":\"2023-10-02T01:35:00.000Z\",\"last_edited_time\":\"2023-'\n",
      "b'{\"object\":\"page\",\"id\":\"af21d9f0-2d89-401b-910f-e0a55aaaa059\",\"created_time\":\"2023-10-02T01:35:00.000Z\",\"last_edited_time\":\"2023-'\n",
      "b'{\"object\":\"page\",\"id\":\"fd2a9a51-2d29-4477-843d-3078c1a1f0d7\",\"created_time\":\"2023-10-02T01:35:00.000Z\",\"last_edited_time\":\"2023-'\n",
      "b'{\"object\":\"page\",\"id\":\"a4d5b1e9-abc0-4f4a-8e5f-ef20d73483c9\",\"created_time\":\"2023-10-02T01:35:00.000Z\",\"last_edited_time\":\"2023-'\n",
      "b'{\"object\":\"page\",\"id\":\"5b6e571e-6a62-4ba4-aee9-8d5f9a40ac3c\",\"created_time\":\"2023-10-02T01:35:00.000Z\",\"last_edited_time\":\"2023-'\n",
      "b'{\"object\":\"page\",\"id\":\"b9d515cb-fd35-46a9-98da-94f2e43fc7de\",\"created_time\":\"2023-10-02T01:35:00.000Z\",\"last_edited_time\":\"2023-'\n",
      "b'{\"object\":\"page\",\"id\":\"17f88b85-ae53-48ec-ac04-08d40bd307b4\",\"created_time\":\"2023-10-02T01:35:00.000Z\",\"last_edited_time\":\"2023-'\n",
      "b'{\"object\":\"page\",\"id\":\"90249f01-4a31-4296-b276-2e0593b2f4ac\",\"created_time\":\"2023-10-02T01:35:00.000Z\",\"last_edited_time\":\"2023-'\n",
      "b'{\"object\":\"page\",\"id\":\"d51fd10c-e8c2-4632-bb9a-a3d188be3d52\",\"created_time\":\"2023-10-02T01:35:00.000Z\",\"last_edited_time\":\"2023-'\n",
      "b'{\"object\":\"page\",\"id\":\"9c2e8c9c-03b4-4549-8cdf-b96c55ddef57\",\"created_time\":\"2023-10-02T01:35:00.000Z\",\"last_edited_time\":\"2023-'\n",
      "b'{\"object\":\"page\",\"id\":\"7d788d85-99c9-4770-9014-12dbcd0a01b7\",\"created_time\":\"2023-10-02T01:35:00.000Z\",\"last_edited_time\":\"2023-'\n",
      "b'{\"object\":\"page\",\"id\":\"a32d8ec1-415c-4acb-9b60-8e3ed9e0acb4\",\"created_time\":\"2023-10-02T01:35:00.000Z\",\"last_edited_time\":\"2023-'\n",
      "b'{\"object\":\"page\",\"id\":\"5a07278f-bc14-424c-ba35-52f49f2425ca\",\"created_time\":\"2023-10-02T01:35:00.000Z\",\"last_edited_time\":\"2023-'\n",
      "b'{\"object\":\"page\",\"id\":\"36d19c3e-ae47-4624-81cf-74baf04e8c29\",\"created_time\":\"2023-10-02T01:35:00.000Z\",\"last_edited_time\":\"2023-'\n"
     ]
    }
   ],
   "source": [
    "# Guardar en Notion\n",
    "for p in list_people:\n",
    "    try:\n",
    "        res = await send_to_notion(p)\n",
    "        print(res)\n",
    "    except e:\n",
    "        print(e)"
   ]
  },
  {
   "cell_type": "code",
   "execution_count": 23,
   "id": "4a00f4a7-404b-4118-be9d-4744bf078b5a",
   "metadata": {
    "tags": []
   },
   "outputs": [],
   "source": [
    "li = driver.find_elements(By.CSS_SELECTOR, \"ul.small.table li\")"
   ]
  },
  {
   "cell_type": "code",
   "execution_count": 24,
   "id": "49e27cbc-7b4d-45d1-93b5-6a1c3b432fcb",
   "metadata": {
    "tags": []
   },
   "outputs": [
    {
     "data": {
      "text/plain": [
       "'anapausk12@gmail.com'"
      ]
     },
     "execution_count": 24,
     "metadata": {},
     "output_type": "execute_result"
    }
   ],
   "source": [
    "li[0].text"
   ]
  },
  {
   "cell_type": "code",
   "execution_count": 25,
   "id": "fdbd1b50-061b-4a30-b218-7b07d2c67fd2",
   "metadata": {
    "tags": []
   },
   "outputs": [],
   "source": [
    "divs = driver.find_elements(By.CSS_SELECTOR, \"div.bb1\")"
   ]
  },
  {
   "cell_type": "code",
   "execution_count": 26,
   "id": "e075e3aa-ada3-4b52-b3ab-11bcdde92471",
   "metadata": {
    "tags": []
   },
   "outputs": [
    {
     "data": {
      "text/plain": [
       "6"
      ]
     },
     "execution_count": 26,
     "metadata": {},
     "output_type": "execute_result"
    }
   ],
   "source": [
    "len(divs)"
   ]
  },
  {
   "cell_type": "code",
   "execution_count": 29,
   "id": "235f1c8a-eb7f-4d06-8fba-140e4b59a82a",
   "metadata": {
    "tags": []
   },
   "outputs": [],
   "source": [
    "expe = divs[2]"
   ]
  },
  {
   "cell_type": "code",
   "execution_count": 31,
   "id": "78489f77-5ada-4b56-aef0-63b8fdc7508d",
   "metadata": {
    "tags": []
   },
   "outputs": [],
   "source": [
    "lis = expe.find_elements(By.CSS_SELECTOR, \"ul li\")"
   ]
  },
  {
   "cell_type": "code",
   "execution_count": 32,
   "id": "955df6f3-5b21-42a0-be4e-c1ff12602714",
   "metadata": {
    "tags": []
   },
   "outputs": [
    {
     "data": {
      "text/plain": [
       "'Agosto de 2019 - Actualmente\\n( 4 años y 2 meses )\\nDiseñador grafico\\nCamila Viali\\nDescripción de funciones: -Creación, diseño gráfico y audiovisual de campañas digitales. -Identidad gráfica de la marca / Nuevas Colecciones / Cápsulas / Sub-Marcas. -Análisis de tendencias (benchmark). -Retoque fotográfico fashion. -Diseño y maquetación de Email marketing. -Diseño de catálogos. -Creación de landings page. Además de diseño y prototipado de interfaces (user flow, wireframes y testeo de usabilidad) para la página web CAMILA VIALI y AFFARI. -Optimización y gestión de las estrategias de marketing.'"
      ]
     },
     "execution_count": 32,
     "metadata": {},
     "output_type": "execute_result"
    }
   ],
   "source": [
    "lis[0].text"
   ]
  },
  {
   "cell_type": "code",
   "execution_count": 34,
   "id": "226959de-2550-4afc-8e68-1c5faab1c2d9",
   "metadata": {
    "tags": []
   },
   "outputs": [],
   "source": [
    "a = {\"a\": 1}\n",
    "b = { \"b\": 2 }\n",
    "c = []"
   ]
  },
  {
   "cell_type": "code",
   "execution_count": 36,
   "id": "64fce572-b4d6-4ff2-be3f-750ab1fbc166",
   "metadata": {
    "tags": []
   },
   "outputs": [],
   "source": [
    "c.append({**a, **b})"
   ]
  },
  {
   "cell_type": "code",
   "execution_count": 37,
   "id": "b2890118-f661-4092-a970-b669338ecb80",
   "metadata": {
    "tags": []
   },
   "outputs": [
    {
     "data": {
      "text/plain": [
       "[{'a': 1, 'b': 2}]"
      ]
     },
     "execution_count": 37,
     "metadata": {},
     "output_type": "execute_result"
    }
   ],
   "source": [
    "c"
   ]
  },
  {
   "cell_type": "code",
   "execution_count": 39,
   "id": "cfdb78fa-5d80-465c-afd7-4b7789b1c526",
   "metadata": {
    "tags": []
   },
   "outputs": [
    {
     "ename": "AttributeError",
     "evalue": "'str' object has no attribute 'contains'",
     "output_type": "error",
     "traceback": [
      "\u001b[1;31m---------------------------------------------------------------------------\u001b[0m",
      "\u001b[1;31mAttributeError\u001b[0m                            Traceback (most recent call last)",
      "Cell \u001b[1;32mIn[39], line 1\u001b[0m\n\u001b[1;32m----> 1\u001b[0m \u001b[38;5;124m\"\u001b[39m\u001b[38;5;124mexternocleidomastoideo\u001b[39m\u001b[38;5;124m\"\u001b[39m\u001b[38;5;241m.\u001b[39mcontains(\u001b[38;5;124m\"\u001b[39m\u001b[38;5;124mocle\u001b[39m\u001b[38;5;124m\"\u001b[39m)\n",
      "\u001b[1;31mAttributeError\u001b[0m: 'str' object has no attribute 'contains'"
     ]
    }
   ],
   "source": [
    "\"externocleidomastoideo\".contains(\"ocle\")"
   ]
  },
  {
   "cell_type": "code",
   "execution_count": null,
   "id": "ff1a0795-4c54-4519-8995-d7b701e1e2e9",
   "metadata": {},
   "outputs": [],
   "source": []
  }
 ],
 "metadata": {
  "kernelspec": {
   "display_name": "Python 3 (ipykernel)",
   "language": "python",
   "name": "python3"
  },
  "language_info": {
   "codemirror_mode": {
    "name": "ipython",
    "version": 3
   },
   "file_extension": ".py",
   "mimetype": "text/x-python",
   "name": "python",
   "nbconvert_exporter": "python",
   "pygments_lexer": "ipython3",
   "version": "3.11.3"
  }
 },
 "nbformat": 4,
 "nbformat_minor": 5
}
